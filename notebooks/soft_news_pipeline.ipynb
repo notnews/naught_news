{
 "cells": [
  {
   "cell_type": "code",
   "execution_count": 1,
   "id": "67c2f396",
   "metadata": {},
   "outputs": [
    {
     "name": "stderr",
     "output_type": "stream",
     "text": [
      "[nltk_data] Downloading package stopwords to\n",
      "[nltk_data]     /Users/Bashar/nltk_data...\n",
      "[nltk_data]   Package stopwords is already up-to-date!\n",
      "[nltk_data] Downloading package punkt to /Users/Bashar/nltk_data...\n",
      "[nltk_data]   Package punkt is already up-to-date!\n"
     ]
    }
   ],
   "source": [
    "import os\n",
    "import numpy as np\n",
    "import pandas as pd\n",
    "import plotly.express as px\n",
    "import dask.dataframe as dd\n",
    "import glob\n",
    "\n",
    "from notnews import *"
   ]
  },
  {
   "cell_type": "code",
   "execution_count": 2,
   "id": "0cda36d3",
   "metadata": {},
   "outputs": [],
   "source": [
    "FILE_PATH = '../dataverse_files/'\n",
    "PROCESSED_PATH = FILE_PATH + 'processed/'\n",
    "PREDICT_NEWS = False"
   ]
  },
  {
   "cell_type": "code",
   "execution_count": 3,
   "id": "dcc76b8f",
   "metadata": {},
   "outputs": [],
   "source": [
    "def split_text(s, n):\n",
    "    pieces = str(s).split()\n",
    "    return (' '.join(pieces[i:i+n]) for i in range(0, len(pieces), n))"
   ]
  },
  {
   "cell_type": "code",
   "execution_count": 4,
   "id": "efd6de6e",
   "metadata": {},
   "outputs": [],
   "source": [
    "def split_df(df, column, num=500):\n",
    "    indexes = list()\n",
    "    new_values = list()\n",
    "    df = df.dropna(subset=[column])\n",
    "    for i, presplit in enumerate(df[column].astype(str)):\n",
    "        w_generator = split_text(presplit, num)\n",
    "        for word in w_generator:\n",
    "            indexes.append(i)\n",
    "            new_values.append(word)\n",
    "    new_df = df.iloc[indexes, :].copy()\n",
    "    new_df[column] = new_values\n",
    "    return new_df"
   ]
  },
  {
   "cell_type": "markdown",
   "id": "37953eec",
   "metadata": {},
   "source": [
    "# Predicting Soft News probability\n",
    "If PREDICT_NEWS = True then will run, this is very time consuming and should be run once\n",
    "After which, the files generated should be saved to disk and preserved for future analysis\n",
    "  as run time could take days depending on the number of records to analyze"
   ]
  },
  {
   "cell_type": "code",
   "execution_count": 5,
   "id": "2fe02098",
   "metadata": {},
   "outputs": [],
   "source": [
    "if (PREDICT_NEWS):\n",
    "    for file in os.listdir('../dataverse_files/'):\n",
    "        if file.endswith(\".csv\"):\n",
    "            print (file)\n",
    "            dd = pd.read_csv( FILE_PATH + str(file), encoding = 'ISO-8859-1')\n",
    "            print (f'Processing: {FILE_PATH + str(file)} ....')\n",
    "            split_dd = split_df(dd, 'text')\n",
    "            print (f'Finished splitting {FILE_PATH + str(file)} into chunks')\n",
    "            soft_news_df = pred_soft_news_us(split_dd, col='text')\n",
    "            print (f'Saving results for {FILE_PATH + str(file)}\\n\\n')\n",
    "            soft_news_df.to_csv('{}soft_news_{}'.format(PROCESSED_PATH, file))\n",
    "            os.rename(FILE_PATH+file, PROCESSED_PATH+file)"
   ]
  },
  {
   "cell_type": "markdown",
   "id": "fad995b3",
   "metadata": {},
   "source": [
    "# Processing files"
   ]
  },
  {
   "cell_type": "code",
   "execution_count": 6,
   "id": "3b7f7ec6",
   "metadata": {},
   "outputs": [],
   "source": [
    "full_df = pd.DataFrame()"
   ]
  },
  {
   "cell_type": "markdown",
   "id": "492e7eac",
   "metadata": {},
   "source": [
    "## Processing CNN Files"
   ]
  },
  {
   "cell_type": "code",
   "execution_count": 7,
   "id": "f513af96",
   "metadata": {},
   "outputs": [],
   "source": [
    "# Processing CNN files\n",
    "processed_files = glob.glob(PROCESSED_PATH + 'soft_news_cnn*.csv')\n",
    "\n",
    "\n",
    "for file in processed_files:\n",
    "    news_df = pd.read_csv(file, encoding = 'ISO-8859-1')\n",
    "\n",
    "    # delete any outliers\n",
    "    news_df = news_df.drop(news_df[news_df['year'] > 2100.0].index , axis=0)\n",
    "    news_df = news_df.drop(news_df[news_df['year'] < 1900.0].index , axis=0)    \n",
    "\n",
    "    # generate date field in format YYYY-MM-DD\n",
    "    news_df['full_date'] = pd.to_datetime((news_df.year*10000+news_df.month*100+news_df.date),format='%Y%m%d')\n",
    "    \n",
    "    # cleaning up the dataframe and appending to the full dataframe\n",
    "    news_df = news_df[news_df.columns[news_df.columns.isin(['channel.name','program.name','full_date','prob_soft_news_us'])]]\n",
    "    full_df = pd.concat([full_df, news_df], axis=0)\n",
    "    "
   ]
  },
  {
   "cell_type": "code",
   "execution_count": 8,
   "id": "56349238",
   "metadata": {},
   "outputs": [
    {
     "data": {
      "text/plain": [
       "(2748284, 4)"
      ]
     },
     "execution_count": 8,
     "metadata": {},
     "output_type": "execute_result"
    }
   ],
   "source": [
    "del news_df\n",
    "full_df.shape"
   ]
  },
  {
   "cell_type": "code",
   "execution_count": 9,
   "id": "b4e97c46",
   "metadata": {},
   "outputs": [
    {
     "name": "stdout",
     "output_type": "stream",
     "text": [
      "<class 'pandas.core.frame.DataFrame'>\n",
      "Int64Index: 2748284 entries, 0 to 1114473\n",
      "Data columns (total 4 columns):\n",
      " #   Column             Dtype         \n",
      "---  ------             -----         \n",
      " 0   channel.name       object        \n",
      " 1   program.name       object        \n",
      " 2   prob_soft_news_us  float64       \n",
      " 3   full_date          datetime64[ns]\n",
      "dtypes: datetime64[ns](1), float64(1), object(2)\n",
      "memory usage: 104.8+ MB\n"
     ]
    }
   ],
   "source": [
    "full_df.info()"
   ]
  },
  {
   "cell_type": "markdown",
   "id": "31198dc9",
   "metadata": {},
   "source": [
    "## Processing NBC/MSNBC files\n",
    "these files have different formats so we'll need to process individually"
   ]
  },
  {
   "cell_type": "markdown",
   "id": "64352d04",
   "metadata": {},
   "source": [
    "### MSNBC 2003-2014 data"
   ]
  },
  {
   "cell_type": "code",
   "execution_count": 10,
   "id": "d3ab2fd8",
   "metadata": {},
   "outputs": [],
   "source": [
    "news_df = pd.read_csv('../dataverse_files/processed/soft_news_msnbc--2003--2014.csv')\n",
    "news_df.rename(columns={'Source':'channel.name', 'Show':'program.name'},inplace=True)\n",
    "news_df['full_date'] = pd.to_datetime(news_df.Date)\n",
    "\n",
    "# keeping only the required columns in the dataframe\n",
    "news_df = news_df[news_df.columns[news_df.columns.isin(['channel.name','program.name','full_date','prob_soft_news_us'])]]"
   ]
  },
  {
   "cell_type": "markdown",
   "id": "df15a30a",
   "metadata": {},
   "source": [
    "### MSNBC 2010-2021 data"
   ]
  },
  {
   "cell_type": "code",
   "execution_count": 11,
   "id": "c9ddd398",
   "metadata": {},
   "outputs": [
    {
     "name": "stderr",
     "output_type": "stream",
     "text": [
      "/Users/Bashar/opt/anaconda3/envs/nonconform/lib/python3.8/site-packages/IPython/core/interactiveshell.py:3457: DtypeWarning: Columns (18) have mixed types.Specify dtype option on import or set low_memory=False.\n",
      "  exec(code_obj, self.user_global_ns, self.user_ns)\n"
     ]
    }
   ],
   "source": [
    "news2_df = pd.read_csv('../dataverse_files/processed/soft_news_msnbc-2010--2021.csv')\n",
    "news2_df.drop('program.name', axis=1, inplace=True)\n",
    "news2_df.rename(columns={'Source':'channel.name', 'show_name':'program.name'},inplace=True)\n",
    "news2_df['full_date'] = pd.to_datetime(news2_df.air_date)\n",
    "\n",
    "# keeping only the required columns in the dataframe\n",
    "news2_df = news2_df[news2_df.columns[news2_df.columns.isin(['channel.name','program.name','full_date','prob_soft_news_us'])]]\n"
   ]
  },
  {
   "cell_type": "code",
   "execution_count": 12,
   "id": "73ef198f",
   "metadata": {},
   "outputs": [
    {
     "name": "stdout",
     "output_type": "stream",
     "text": [
      "Size of 2003-2014 df: (252433, 4)\n",
      "Size of 2010-2021 df: (163122, 4)\n"
     ]
    }
   ],
   "source": [
    "print (f'Size of 2003-2014 df: {news_df.shape}')\n",
    "print (f'Size of 2010-2021 df: {news2_df.shape}')"
   ]
  },
  {
   "cell_type": "markdown",
   "id": "d5d38eb2",
   "metadata": {},
   "source": [
    "Merging the 2 dataframes to see if there is any redundant records"
   ]
  },
  {
   "cell_type": "code",
   "execution_count": 13,
   "id": "1c9beddd",
   "metadata": {},
   "outputs": [
    {
     "data": {
      "text/html": [
       "<div>\n",
       "<style scoped>\n",
       "    .dataframe tbody tr th:only-of-type {\n",
       "        vertical-align: middle;\n",
       "    }\n",
       "\n",
       "    .dataframe tbody tr th {\n",
       "        vertical-align: top;\n",
       "    }\n",
       "\n",
       "    .dataframe thead th {\n",
       "        text-align: right;\n",
       "    }\n",
       "</style>\n",
       "<table border=\"1\" class=\"dataframe\">\n",
       "  <thead>\n",
       "    <tr style=\"text-align: right;\">\n",
       "      <th></th>\n",
       "      <th>channel.name</th>\n",
       "      <th>program.name</th>\n",
       "      <th>prob_soft_news_us</th>\n",
       "      <th>full_date</th>\n",
       "    </tr>\n",
       "  </thead>\n",
       "  <tbody>\n",
       "    <tr>\n",
       "      <th>0</th>\n",
       "      <td>MSNBC</td>\n",
       "      <td>HARDBALL</td>\n",
       "      <td>0.117768</td>\n",
       "      <td>2002-09-24</td>\n",
       "    </tr>\n",
       "    <tr>\n",
       "      <th>1</th>\n",
       "      <td>MSNBC</td>\n",
       "      <td>HARDBALL</td>\n",
       "      <td>0.048173</td>\n",
       "      <td>2002-09-24</td>\n",
       "    </tr>\n",
       "    <tr>\n",
       "      <th>2</th>\n",
       "      <td>MSNBC</td>\n",
       "      <td>HARDBALL</td>\n",
       "      <td>0.485402</td>\n",
       "      <td>2002-09-24</td>\n",
       "    </tr>\n",
       "    <tr>\n",
       "      <th>3</th>\n",
       "      <td>MSNBC</td>\n",
       "      <td>HARDBALL</td>\n",
       "      <td>0.086091</td>\n",
       "      <td>2002-09-24</td>\n",
       "    </tr>\n",
       "    <tr>\n",
       "      <th>4</th>\n",
       "      <td>MSNBC</td>\n",
       "      <td>HARDBALL</td>\n",
       "      <td>0.265826</td>\n",
       "      <td>2002-09-24</td>\n",
       "    </tr>\n",
       "    <tr>\n",
       "      <th>...</th>\n",
       "      <td>...</td>\n",
       "      <td>...</td>\n",
       "      <td>...</td>\n",
       "      <td>...</td>\n",
       "    </tr>\n",
       "    <tr>\n",
       "      <th>415550</th>\n",
       "      <td>MSNBC</td>\n",
       "      <td>The 11th Hour</td>\n",
       "      <td>0.058611</td>\n",
       "      <td>2022-02-02</td>\n",
       "    </tr>\n",
       "    <tr>\n",
       "      <th>415551</th>\n",
       "      <td>MSNBC</td>\n",
       "      <td>The 11th Hour</td>\n",
       "      <td>0.104432</td>\n",
       "      <td>2022-02-02</td>\n",
       "    </tr>\n",
       "    <tr>\n",
       "      <th>415552</th>\n",
       "      <td>MSNBC</td>\n",
       "      <td>The 11th Hour</td>\n",
       "      <td>0.080886</td>\n",
       "      <td>2022-02-02</td>\n",
       "    </tr>\n",
       "    <tr>\n",
       "      <th>415553</th>\n",
       "      <td>MSNBC</td>\n",
       "      <td>The 11th Hour</td>\n",
       "      <td>0.301714</td>\n",
       "      <td>2022-02-02</td>\n",
       "    </tr>\n",
       "    <tr>\n",
       "      <th>415554</th>\n",
       "      <td>MSNBC</td>\n",
       "      <td>The 11th Hour</td>\n",
       "      <td>0.502162</td>\n",
       "      <td>2022-02-02</td>\n",
       "    </tr>\n",
       "  </tbody>\n",
       "</table>\n",
       "<p>415555 rows × 4 columns</p>\n",
       "</div>"
      ],
      "text/plain": [
       "       channel.name   program.name  prob_soft_news_us  full_date\n",
       "0             MSNBC       HARDBALL           0.117768 2002-09-24\n",
       "1             MSNBC       HARDBALL           0.048173 2002-09-24\n",
       "2             MSNBC       HARDBALL           0.485402 2002-09-24\n",
       "3             MSNBC       HARDBALL           0.086091 2002-09-24\n",
       "4             MSNBC       HARDBALL           0.265826 2002-09-24\n",
       "...             ...            ...                ...        ...\n",
       "415550        MSNBC  The 11th Hour           0.058611 2022-02-02\n",
       "415551        MSNBC  The 11th Hour           0.104432 2022-02-02\n",
       "415552        MSNBC  The 11th Hour           0.080886 2022-02-02\n",
       "415553        MSNBC  The 11th Hour           0.301714 2022-02-02\n",
       "415554        MSNBC  The 11th Hour           0.502162 2022-02-02\n",
       "\n",
       "[415555 rows x 4 columns]"
      ]
     },
     "execution_count": 13,
     "metadata": {},
     "output_type": "execute_result"
    }
   ],
   "source": [
    "news_df.merge(news2_df, how='outer', on=['channel.name','program.name','full_date', 'prob_soft_news_us'])"
   ]
  },
  {
   "cell_type": "code",
   "execution_count": 14,
   "id": "e207acec",
   "metadata": {},
   "outputs": [],
   "source": [
    "full_df = pd.concat([full_df, news_df], axis=0)"
   ]
  },
  {
   "cell_type": "code",
   "execution_count": 15,
   "id": "27bd6865",
   "metadata": {},
   "outputs": [
    {
     "data": {
      "text/plain": [
       "(3000717, 4)"
      ]
     },
     "execution_count": 15,
     "metadata": {},
     "output_type": "execute_result"
    }
   ],
   "source": [
    "full_df.shape"
   ]
  },
  {
   "cell_type": "code",
   "execution_count": 16,
   "id": "1c31391b",
   "metadata": {},
   "outputs": [],
   "source": [
    "del news2_df"
   ]
  },
  {
   "cell_type": "markdown",
   "id": "2b3a95ff",
   "metadata": {},
   "source": [
    "### Processing NBC News data"
   ]
  },
  {
   "cell_type": "code",
   "execution_count": 17,
   "id": "1be2759e",
   "metadata": {},
   "outputs": [],
   "source": [
    "news_df = pd.read_csv('../dataverse_files/processed/soft_news_msnbc.csv', encoding = 'ISO-8859-1')\n",
    "news_df['channel.name'] = 'NBC News'"
   ]
  },
  {
   "cell_type": "code",
   "execution_count": 18,
   "id": "11cfc478",
   "metadata": {},
   "outputs": [],
   "source": [
    "news_df.drop(news_df[news_df['date'].isnull()].index, inplace=True)"
   ]
  },
  {
   "cell_type": "code",
   "execution_count": 19,
   "id": "0a64bbcb",
   "metadata": {},
   "outputs": [],
   "source": [
    "news_df = news_df.drop(news_df[news_df['year'] > 2100.0].index , axis=0)\n",
    "news_df = news_df.drop(news_df[news_df['year'] < 1900.0].index , axis=0)    \n",
    "\n",
    "news_df['full_date'] = pd.to_datetime((news_df.year*10000+news_df.month*100+news_df.date),format='%Y%m%d')"
   ]
  },
  {
   "cell_type": "code",
   "execution_count": 20,
   "id": "a15985af",
   "metadata": {},
   "outputs": [],
   "source": [
    "# keeping only the required columns in the dataframe\n",
    "news_df = news_df[news_df.columns[news_df.columns.isin(['channel.name','program.name','full_date','prob_soft_news_us'])]]\n",
    "\n",
    "full_df = pd.concat([full_df, news_df], axis=0)"
   ]
  },
  {
   "cell_type": "code",
   "execution_count": 21,
   "id": "67328915",
   "metadata": {},
   "outputs": [
    {
     "data": {
      "text/plain": [
       "(3089450, 4)"
      ]
     },
     "execution_count": 21,
     "metadata": {},
     "output_type": "execute_result"
    }
   ],
   "source": [
    "full_df.shape"
   ]
  },
  {
   "cell_type": "code",
   "execution_count": 22,
   "id": "dfb6f36c",
   "metadata": {},
   "outputs": [],
   "source": [
    "del news_df"
   ]
  },
  {
   "cell_type": "code",
   "execution_count": null,
   "id": "861d6584",
   "metadata": {},
   "outputs": [],
   "source": []
  }
 ],
 "metadata": {
  "kernelspec": {
   "display_name": "Python 3 (ipykernel)",
   "language": "python",
   "name": "python3"
  },
  "language_info": {
   "codemirror_mode": {
    "name": "ipython",
    "version": 3
   },
   "file_extension": ".py",
   "mimetype": "text/x-python",
   "name": "python",
   "nbconvert_exporter": "python",
   "pygments_lexer": "ipython3",
   "version": "3.8.12"
  }
 },
 "nbformat": 4,
 "nbformat_minor": 5
}
