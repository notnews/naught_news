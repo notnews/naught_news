{
 "cells": [
  {
   "cell_type": "code",
   "execution_count": 1,
   "id": "0b3401f9",
   "metadata": {},
   "outputs": [
    {
     "name": "stderr",
     "output_type": "stream",
     "text": [
      "[nltk_data] Downloading package stopwords to\n",
      "[nltk_data]     /Users/Bashar/nltk_data...\n",
      "[nltk_data]   Package stopwords is already up-to-date!\n",
      "[nltk_data] Downloading package punkt to /Users/Bashar/nltk_data...\n",
      "[nltk_data]   Package punkt is already up-to-date!\n"
     ]
    }
   ],
   "source": [
    "import os\n",
    "import pandas as pd\n",
    "import plotly.express as px\n",
    "import dask.dataframe as ddf\n",
    "\n",
    "from notnews import *"
   ]
  },
  {
   "cell_type": "code",
   "execution_count": 2,
   "id": "ec3fa82e",
   "metadata": {},
   "outputs": [],
   "source": [
    "FILE_PATH = '../dataverse_files/'\n",
    "PROCESSED_PATH = FILE_PATH + 'processed/'"
   ]
  },
  {
   "cell_type": "code",
   "execution_count": 3,
   "id": "f798f99b",
   "metadata": {},
   "outputs": [],
   "source": [
    "def split_text(s, n):\n",
    "    pieces = str(s).split()\n",
    "    return (' '.join(pieces[i:i+n]) for i in range(0, len(pieces), n))"
   ]
  },
  {
   "cell_type": "code",
   "execution_count": 4,
   "id": "d9f8645b",
   "metadata": {},
   "outputs": [],
   "source": [
    "def split_df(df, column, num=500):\n",
    "    indexes = list()\n",
    "    new_values = list()\n",
    "    df = df.dropna(subset=[column])\n",
    "    for i, presplit in enumerate(df[column].astype(str)):\n",
    "        w_generator = split_text(presplit, num)\n",
    "        for word in w_generator:\n",
    "            indexes.append(i)\n",
    "            new_values.append(word)\n",
    "    new_df = df.iloc[indexes, :].copy()\n",
    "    new_df[column] = new_values\n",
    "    return new_df"
   ]
  },
  {
   "cell_type": "code",
   "execution_count": null,
   "id": "69c9c4d7",
   "metadata": {},
   "outputs": [
    {
     "name": "stdout",
     "output_type": "stream",
     "text": [
      "cnn-1.csv\n",
      "Processing: ../dataverse_files/cnn-1.csv ....\n",
      "Finished splitting ../dataverse_files/cnn-1.csv into chunks\n",
      "Using model data from /Users/Bashar/opt/anaconda3/envs/nonconform/lib/python3.8/site-packages/notnews/data/us_model/nyt_us_soft_news_classifier.joblib...\n",
      "Using vectorizer data from /Users/Bashar/opt/anaconda3/envs/nonconform/lib/python3.8/site-packages/notnews/data/us_model/nyt_us_soft_news_vectorizer.joblib...\n",
      "Loading the model and vectorizer data file...\n",
      "Saving results for ../dataverse_files/cnn-1.csv\n",
      "\n",
      "\n",
      "cnn-2.csv\n",
      "Processing: ../dataverse_files/cnn-2.csv ....\n",
      "Finished splitting ../dataverse_files/cnn-2.csv into chunks\n",
      "Saving results for ../dataverse_files/cnn-2.csv\n",
      "\n",
      "\n",
      "cnn-3.csv\n",
      "Processing: ../dataverse_files/cnn-3.csv ....\n",
      "Finished splitting ../dataverse_files/cnn-3.csv into chunks\n"
     ]
    }
   ],
   "source": [
    "big_dd = pd.DataFrame()\n",
    "for file in os.listdir('../dataverse_files/'):\n",
    "    if file.endswith(\".csv\"):\n",
    "        print (file)\n",
    "        dd = pd.read_csv( FILE_PATH + str(file), encoding = 'ISO-8859-1')\n",
    "        print (f'Processing: {FILE_PATH + str(file)} ....')\n",
    "        split_dd = split_df(dd, 'text')\n",
    "        print (f'Finished splitting {FILE_PATH + str(file)} into chunks')\n",
    "        soft_news_df = pred_soft_news_us(split_dd, col='text')\n",
    "        print (f'Saving results for {FILE_PATH + str(file)}\\n\\n')\n",
    "        soft_news_df.to_csv('{}soft_news_{}'.format(PROCESSED_PATH, file))\n",
    "        os.rename(FILE_PATH+file, PROCESSED_PATH+'soft_news_'+file)"
   ]
  },
  {
   "cell_type": "code",
   "execution_count": null,
   "id": "e51be394",
   "metadata": {},
   "outputs": [],
   "source": []
  }
 ],
 "metadata": {
  "kernelspec": {
   "display_name": "Python 3 (ipykernel)",
   "language": "python",
   "name": "python3"
  },
  "language_info": {
   "codemirror_mode": {
    "name": "ipython",
    "version": 3
   },
   "file_extension": ".py",
   "mimetype": "text/x-python",
   "name": "python",
   "nbconvert_exporter": "python",
   "pygments_lexer": "ipython3",
   "version": "3.8.12"
  }
 },
 "nbformat": 4,
 "nbformat_minor": 5
}
