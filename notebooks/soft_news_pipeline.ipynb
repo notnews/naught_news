{
 "cells": [
  {
   "cell_type": "code",
   "execution_count": 37,
   "id": "67c2f396",
   "metadata": {},
   "outputs": [],
   "source": [
    "import os\n",
    "import numpy as np\n",
    "import pandas as pd\n",
    "import plotly.express as px\n",
    "import dask.dataframe as dd\n",
    "import glob\n",
    "\n",
    "from notnews import *"
   ]
  },
  {
   "cell_type": "code",
   "execution_count": 2,
   "id": "0cda36d3",
   "metadata": {},
   "outputs": [],
   "source": [
    "FILE_PATH = '../dataverse_files/'\n",
    "PROCESSED_PATH = FILE_PATH + 'processed/'\n",
    "PREDICT_NEWS = False"
   ]
  },
  {
   "cell_type": "code",
   "execution_count": 3,
   "id": "dcc76b8f",
   "metadata": {},
   "outputs": [],
   "source": [
    "def split_text(s, n):\n",
    "    pieces = str(s).split()\n",
    "    return (' '.join(pieces[i:i+n]) for i in range(0, len(pieces), n))"
   ]
  },
  {
   "cell_type": "code",
   "execution_count": 4,
   "id": "efd6de6e",
   "metadata": {},
   "outputs": [],
   "source": [
    "def split_df(df, column, num=500):\n",
    "    indexes = list()\n",
    "    new_values = list()\n",
    "    df = df.dropna(subset=[column])\n",
    "    for i, presplit in enumerate(df[column].astype(str)):\n",
    "        w_generator = split_text(presplit, num)\n",
    "        for word in w_generator:\n",
    "            indexes.append(i)\n",
    "            new_values.append(word)\n",
    "    new_df = df.iloc[indexes, :].copy()\n",
    "    new_df[column] = new_values\n",
    "    return new_df"
   ]
  },
  {
   "cell_type": "code",
   "execution_count": 5,
   "id": "2fe02098",
   "metadata": {},
   "outputs": [],
   "source": [
    "if (PREDICT_NEWS):\n",
    "    for file in os.listdir('../dataverse_files/'):\n",
    "        if file.endswith(\".csv\"):\n",
    "            print (file)\n",
    "            dd = pd.read_csv( FILE_PATH + str(file), encoding = 'ISO-8859-1')\n",
    "            print (f'Processing: {FILE_PATH + str(file)} ....')\n",
    "            split_dd = split_df(dd, 'text')\n",
    "            print (f'Finished splitting {FILE_PATH + str(file)} into chunks')\n",
    "            soft_news_df = pred_soft_news_us(split_dd, col='text')\n",
    "            print (f'Saving results for {FILE_PATH + str(file)}\\n\\n')\n",
    "            soft_news_df.to_csv('{}soft_news_{}'.format(PROCESSED_PATH, file))\n",
    "            os.rename(FILE_PATH+file, PROCESSED_PATH+file)"
   ]
  },
  {
   "cell_type": "code",
   "execution_count": 27,
   "id": "09287acf",
   "metadata": {},
   "outputs": [],
   "source": [
    "#full_df = pd.DataFrame(columns=['channel.name','program.name','full_date','prob_soft_news_us'])\n",
    "#full_df = dd.from_pandas(full_df, chunksize=250000)\n",
    "full_df = pd.DataFrame()"
   ]
  },
  {
   "cell_type": "code",
   "execution_count": 52,
   "id": "f513af96",
   "metadata": {},
   "outputs": [],
   "source": [
    "# Processing CNN files\n",
    "processed_files = glob.glob(PROCESSED_PATH + 'soft_news_cnn*.csv')\n",
    "\n",
    "\n",
    "for file in processed_files:\n",
    "    news_df = pd.read_csv(file, encoding = 'ISO-8859-1')\n",
    "\n",
    "    # delete any outliers\n",
    "    news_df = news_df.drop(news_df[news_df['year'] > 2100.0].index , axis=0)\n",
    "    news_df = news_df.drop(news_df[news_df['year'] < 1900.0].index , axis=0)    \n",
    "\n",
    "    # generate date field in format YYYY-MM-DD\n",
    "    news_df['full_date'] = pd.to_datetime((news_df.year*10000+news_df.month*100+news_df.date),format='%Y%m%d')\n",
    "    #news_df.drop(news_df.loc[news_df['full_date'] > np.datetime64('2100-01-01T01:00:00.000000')].index, inplace=True)\n",
    "    #news_df.drop(news_df.loc[news_df['full_date'] < np.datetime64('1900-01-01T01:00:00.000000')].index, inplace=True) \n",
    "    \n",
    "    # cleaning up the dataframe and appending to the full dataframe\n",
    "    news_df = news_df[news_df.columns[news_df.columns.isin(['channel.name','program.name','full_date','prob_soft_news_us'])]]\n",
    "    full_df = pd.concat([full_df, news_df], axis=0)\n",
    "    "
   ]
  },
  {
   "cell_type": "code",
   "execution_count": 54,
   "id": "f4a24eaa",
   "metadata": {},
   "outputs": [
    {
     "data": {
      "text/plain": [
       "(3699388, 4)"
      ]
     },
     "execution_count": 54,
     "metadata": {},
     "output_type": "execute_result"
    }
   ],
   "source": [
    "full_df.shape"
   ]
  },
  {
   "cell_type": "code",
   "execution_count": 55,
   "id": "c014f56c",
   "metadata": {},
   "outputs": [
    {
     "name": "stdout",
     "output_type": "stream",
     "text": [
      "<class 'pandas.core.frame.DataFrame'>\n",
      "Int64Index: 3699388 entries, 0 to 1114473\n",
      "Data columns (total 4 columns):\n",
      " #   Column             Dtype         \n",
      "---  ------             -----         \n",
      " 0   channel.name       object        \n",
      " 1   program.name       object        \n",
      " 2   prob_soft_news_us  float64       \n",
      " 3   full_date          datetime64[ns]\n",
      "dtypes: datetime64[ns](1), float64(1), object(2)\n",
      "memory usage: 141.1+ MB\n"
     ]
    }
   ],
   "source": [
    "full_df.info()"
   ]
  },
  {
   "cell_type": "code",
   "execution_count": null,
   "id": "a1caa4ce",
   "metadata": {},
   "outputs": [],
   "source": []
  }
 ],
 "metadata": {
  "kernelspec": {
   "display_name": "Python 3 (ipykernel)",
   "language": "python",
   "name": "python3"
  },
  "language_info": {
   "codemirror_mode": {
    "name": "ipython",
    "version": 3
   },
   "file_extension": ".py",
   "mimetype": "text/x-python",
   "name": "python",
   "nbconvert_exporter": "python",
   "pygments_lexer": "ipython3",
   "version": "3.8.12"
  }
 },
 "nbformat": 4,
 "nbformat_minor": 5
}
